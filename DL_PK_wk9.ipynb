{
 "cells": [
  {
   "cell_type": "markdown",
   "metadata": {},
   "source": [
    "dCa / dt = - Ka * Ca\n",
    "dCgi / dt = Ka* Ca * Va/Vgi"
   ]
  },
  {
   "cell_type": "code",
   "execution_count": 16,
   "metadata": {},
   "outputs": [],
   "source": [
    "import numpy as np\n",
    "import matplotlib.pyplot as plt\n",
    "from scipy.integrate import solve_ivp"
   ]
  },
  {
   "cell_type": "code",
   "execution_count": 24,
   "metadata": {},
   "outputs": [],
   "source": [
    "#known input values\n",
    "\n",
    "Vc = 20\n",
    "#Vl = \n",
    "#V_k =\n",
    "#q_l = \n",
    "#q_k = \n",
    "c_ai = 200\n",
    "#k_m =\n",
    "#k_e =\n",
    "#Q_e =\n",
    "\n",
    "#kkc = \n",
    "#kck = \n",
    "#klc = \n",
    "#kcl =\n",
    "#kec =\n",
    "\n",
    "D = 0\n",
    "F = 0.7\n",
    "\n",
    "c_ai_0 = 200 \n",
    "Cc_0 = 0\n",
    "Cl_0 = 0\n",
    "Ck_0 = 0"
   ]
  },
  {
   "cell_type": "code",
   "execution_count": 26,
   "metadata": {},
   "outputs": [
    {
     "ename": "SyntaxError",
     "evalue": "invalid syntax (<ipython-input-26-317a46a0ad01>, line 17)",
     "output_type": "error",
     "traceback": [
      "\u001b[1;36m  File \u001b[1;32m\"<ipython-input-26-317a46a0ad01>\"\u001b[1;36m, line \u001b[1;32m17\u001b[0m\n\u001b[1;33m    c_ci_0[i] = input('Initial concentration for compartment' (i+1) '(g/L)')\u001b[0m\n\u001b[1;37m                                                                    ^\u001b[0m\n\u001b[1;31mSyntaxError\u001b[0m\u001b[1;31m:\u001b[0m invalid syntax\n"
     ]
    }
   ],
   "source": [
    "#determining if renal and liver are considered their own comprtamtnet\n",
    "renal_liver_y_n = 'y'\n",
    "\n",
    "n_c = input('How many compartments are there not including liver, kidneys, or central compartment')\n",
    "\n",
    "c_ci = [] * n_c\n",
    "c_ci_0 = c_ci\n",
    "dci_dt = [] * n_c\n",
    "q_i = [] * n_c\n",
    "v_i = [] * n_c\n",
    "\n",
    "\n",
    "f_or_k = 'f'\n",
    "\n",
    "for i in range(n_c):\n",
    "    c_ci_0[i] = input('Initial concentration for compartment' (i+1))\n",
    "    v_i[i] = input('Volume of compartment' (i+1))\n",
    "    if f_or_k = 'f':\n",
    "            q_i[i] = input('Flux of compartment' (i+1))\n",
    "    if f_or_k == 'k':\n",
    "            k_i[i] = input('Mass transfer rate from central to peripheral' (i+1)\n",
    "            k_ic[i] = input('Mass transfer rate from peripheral to central' (i+1))\n",
    "c_0 = [c_ai_0] + [Cc_0] + [Cl_0] +[Ck] + c_ci_0"
   ]
  },
  {
   "cell_type": "code",
   "execution_count": 22,
   "metadata": {},
   "outputs": [
    {
     "ename": "SyntaxError",
     "evalue": "invalid syntax (<ipython-input-22-dff40817db12>, line 6)",
     "output_type": "error",
     "traceback": [
      "\u001b[1;36m  File \u001b[1;32m\"<ipython-input-22-dff40817db12>\"\u001b[1;36m, line \u001b[1;32m6\u001b[0m\n\u001b[1;33m    dCa_dt =\u001b[0m\n\u001b[1;37m             ^\u001b[0m\n\u001b[1;31mSyntaxError\u001b[0m\u001b[1;31m:\u001b[0m invalid syntax\n"
     ]
    }
   ],
   "source": [
    "def model(t, y):\n",
    "     \n",
    "    if f_or_k == 'f':\n",
    "        if renal_liver_y_n  =='y':\n",
    "            c_i, Cc, Cl, Ck, Ca = y\n",
    "            dCa_dt = \n",
    "            Admin =\n",
    "        \n",
    "            dCc_dt = Admin\n",
    "            for i in range(length(c_ci)):\n",
    "                dci_dt[i] = (q_i[i] / v_i[i]) * (Cc - c_ci[i])\n",
    "                dCc_dt = dCc_dt + (1/V_c) * (q_i[i] * (c_ci[i] - Cc))\n",
    "            dCl_dt = (q_l/V_l) *(Cc - Cl) - k_e,l * Cl + q_gil/V_l * C_gi\n",
    "            dCk_dt = (q_k/V_l) * (Cc - Ck) - Q_e * Ck\n",
    "    \n",
    "        elif renal_liver_y_n == 'n':\n",
    "            c_i, Cc, Ca = y\n",
    "            dCa_dt = \n",
    "            Admin =\n",
    "        \n",
    "            dCc_dt = Admin - k_e * Cc\n",
    "            for i in range(length(c_i)):\n",
    "                dci_dt[i] = (q_i[i] / v_i[i]) * (Cc - c_ci[i])\n",
    "                dCc_dt = dCc_dt + (1/V_c) * (q_i[i] * (c_ci[i] - Cc))\n",
    "            dCl_dt = 0\n",
    "            dCk_dt = 0\n",
    "    if f_or_k == 'k':\n",
    "        if renal_liver_y_n  =='y':\n",
    "            c_i, Cc, Cl, Ck, Ca = y\n",
    "            dCa_dt = \n",
    "            Admin =\n",
    "        \n",
    "            dCc_dt = Admin\n",
    "            for i in range(length(c_ci)):\n",
    "                dci_dt[i] = - k_ic[i] * c_ci[i] + (Vc/v_i[i]) *  k_i[i] * Cc\n",
    "                dCc_dt = dCc_dt - k_i[i] * Cc + k_ic * c_ci[i] * (v_i[i] / Vc)\n",
    "            dCl_dt = -(klc) * Cl +(kcl) * Cc * (Vc/Vl) - kel * Cl + (V_gi/V_l) *k_gil * C_gi\n",
    "            dCk_dt = - (kkc) * Ck + (kck) * Cc * (Vc/Vl) - kec * Ck\n",
    "    \n",
    "        elif renal_liver_y_n == 'n':\n",
    "            c_i, Cc, Ca = y\n",
    "            dCa_dt = \n",
    "            Admin =\n",
    "        \n",
    "            dCc_dt = Admin - k_e * Cc\n",
    "            for i in range(length(c_i)):\n",
    "                dci_dt[i] = - k_ic[i] * c_ci[i] + (Vc/v_i[i]) *  k_i[i] * Cc\n",
    "                dCc_dt = dCc_dt - k_i[i] * Cc + k_ic * c_ci[i] * (v_i[i] / Vc)\n",
    "            dCl_dt = 0\n",
    "            dCk_dt = 0\n",
    "        \n",
    "    rv = [dCa_dt, dCc_dt, dCl_dt, dCk_dt] + dci_dt  \n",
    "    return [rv]\n",
    "\n"
   ]
  },
  {
   "cell_type": "code",
   "execution_count": 23,
   "metadata": {},
   "outputs": [
    {
     "ename": "NameError",
     "evalue": "name 'model' is not defined",
     "output_type": "error",
     "traceback": [
      "\u001b[1;31m---------------------------------------------------------------------------\u001b[0m",
      "\u001b[1;31mNameError\u001b[0m                                 Traceback (most recent call last)",
      "\u001b[1;32m<ipython-input-23-29944bfb079e>\u001b[0m in \u001b[0;36m<module>\u001b[1;34m\u001b[0m\n\u001b[0;32m      1\u001b[0m \u001b[0mt\u001b[0m \u001b[1;33m=\u001b[0m \u001b[0mnp\u001b[0m\u001b[1;33m.\u001b[0m\u001b[0mlinspace\u001b[0m\u001b[1;33m(\u001b[0m\u001b[1;36m0\u001b[0m\u001b[1;33m,\u001b[0m \u001b[1;36m100\u001b[0m\u001b[1;33m,\u001b[0m \u001b[1;36m7500\u001b[0m\u001b[1;33m)\u001b[0m\u001b[1;33m\u001b[0m\u001b[1;33m\u001b[0m\u001b[0m\n\u001b[1;32m----> 2\u001b[1;33m \u001b[0msol\u001b[0m \u001b[1;33m=\u001b[0m \u001b[0msolve_ivp\u001b[0m\u001b[1;33m(\u001b[0m\u001b[0mmodel\u001b[0m\u001b[1;33m,\u001b[0m \u001b[1;33m[\u001b[0m\u001b[0mt\u001b[0m\u001b[1;33m[\u001b[0m\u001b[1;36m0\u001b[0m\u001b[1;33m]\u001b[0m\u001b[1;33m,\u001b[0m \u001b[0mt\u001b[0m\u001b[1;33m[\u001b[0m\u001b[1;33m-\u001b[0m\u001b[1;36m1\u001b[0m\u001b[1;33m]\u001b[0m\u001b[1;33m,\u001b[0m \u001b[0mc_0\u001b[0m\u001b[1;33m,\u001b[0m \u001b[0mt\u001b[0m\u001b[1;33m]\u001b[0m\u001b[1;33m)\u001b[0m\u001b[1;33m\u001b[0m\u001b[1;33m\u001b[0m\u001b[0m\n\u001b[0m\u001b[0;32m      3\u001b[0m \u001b[1;33m\u001b[0m\u001b[0m\n\u001b[0;32m      4\u001b[0m \u001b[0mC1\u001b[0m \u001b[1;33m=\u001b[0m \u001b[0msol\u001b[0m\u001b[1;33m.\u001b[0m\u001b[0mc_0\u001b[0m\u001b[1;33m[\u001b[0m\u001b[1;36m0\u001b[0m\u001b[1;33m]\u001b[0m\u001b[1;33m\u001b[0m\u001b[1;33m\u001b[0m\u001b[0m\n\u001b[0;32m      5\u001b[0m \u001b[0mC2\u001b[0m \u001b[1;33m=\u001b[0m \u001b[0msol\u001b[0m\u001b[1;33m.\u001b[0m\u001b[0mc_0\u001b[0m\u001b[1;33m[\u001b[0m\u001b[1;36m1\u001b[0m\u001b[1;33m]\u001b[0m\u001b[1;33m\u001b[0m\u001b[1;33m\u001b[0m\u001b[0m\n",
      "\u001b[1;31mNameError\u001b[0m: name 'model' is not defined"
     ]
    }
   ],
   "source": [
    "t = np.linspace(0, 100, 7500)\n",
    "sol = solve_ivp(model, [t[0], t[-1], c_0, t])\n",
    "\n",
    "\n",
    "#for i in range(n_c):\n",
    "    #'C' + str(i+1) = sol.c_0[i+4]\n",
    "\n",
    "for i in range(4 + length(n_c)):\n",
    "    plt.plot(sol.t, sol.y[i])\n",
    "\n",
    "plt.title('Concentration curves for a multi-compartment PK model')\n",
    "\n",
    "    \n",
    "\n",
    "    \n",
    "    "
   ]
  },
  {
   "cell_type": "code",
   "execution_count": null,
   "metadata": {},
   "outputs": [],
   "source": []
  }
 ],
 "metadata": {
  "kernelspec": {
   "display_name": "Python 3",
   "language": "python",
   "name": "python3"
  },
  "language_info": {
   "codemirror_mode": {
    "name": "ipython",
    "version": 3
   },
   "file_extension": ".py",
   "mimetype": "text/x-python",
   "name": "python",
   "nbconvert_exporter": "python",
   "pygments_lexer": "ipython3",
   "version": "3.8.3"
  }
 },
 "nbformat": 4,
 "nbformat_minor": 4
}
